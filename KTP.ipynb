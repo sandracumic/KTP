{
  "nbformat": 4,
  "nbformat_minor": 0,
  "metadata": {
    "colab": {
      "provenance": [],
      "authorship_tag": "ABX9TyMyG/P5sr02BHngISVMwktM",
      "include_colab_link": true
    },
    "kernelspec": {
      "name": "python3",
      "display_name": "Python 3"
    },
    "language_info": {
      "name": "python"
    }
  },
  "cells": [
    {
      "cell_type": "markdown",
      "metadata": {
        "id": "view-in-github",
        "colab_type": "text"
      },
      "source": [
        "<a href=\"https://colab.research.google.com/github/sandracumic/KTP/blob/main/KTP.ipynb\" target=\"_parent\"><img src=\"https://colab.research.google.com/assets/colab-badge.svg\" alt=\"Open In Colab\"/></a>"
      ]
    },
    {
      "cell_type": "code",
      "execution_count": null,
      "metadata": {
        "id": "g0P8enOh1QIx"
      },
      "outputs": [],
      "source": [
        "import numpy as n\n",
        "import pandas as pd\n",
        "import seaborn as se\n",
        "from scipy.stats import f_oneway"
      ]
    },
    {
      "cell_type": "code",
      "source": [
        "Githuburl = 'https://raw.githubusercontent.com/sandracumic/KTP/main/Data%20for%20quantitative%20analysis%20task.csv'\n",
        "\n",
        "data = pd.read_csv(Githuburl)\n"
      ],
      "metadata": {
        "id": "GAzHkoAI2M_I"
      },
      "execution_count": null,
      "outputs": []
    },
    {
      "cell_type": "code",
      "source": [
        "print(data.head())"
      ],
      "metadata": {
        "colab": {
          "base_uri": "https://localhost:8080/"
        },
        "id": "M2zJEpHU4V3F",
        "outputId": "b83d5fd2-1425-46d7-f0b3-68cc787b4634"
      },
      "execution_count": null,
      "outputs": [
        {
          "output_type": "stream",
          "name": "stdout",
          "text": [
            "   ID                     IV_MAIN_Variable  Politeness_perception  \\\n",
            "0   1  Control group (no donation request)               3.954545   \n",
            "1   3  Control group (no donation request)               4.227273   \n",
            "2   6  Control group (no donation request)               3.818182   \n",
            "3   7  Control group (no donation request)               2.454545   \n",
            "4   8  Control group (no donation request)               3.136364   \n",
            "\n",
            "   Happiness_PostRequest  age  gender               pol1  \\\n",
            "0               3.454545   27  Female    Strong Democrat   \n",
            "1               2.454545   59    Male  Moderate Democrat   \n",
            "2               2.727273   33  Female  Moderate Democrat   \n",
            "3               3.272727   34    Male        Independent   \n",
            "4               2.909091   46  Female  Moderate Democrat   \n",
            "\n",
            "                            job                    edu             ethni  \n",
            "0  Sales and office occupations  2-year College Degree   White/Caucasian  \n",
            "1                    Unemployed  2-year College Degree   White/Caucasian  \n",
            "2                    Unemployed        Master's Degree   White/Caucasian  \n",
            "3           Service occupations  4-year College Degree   White/Caucasian  \n",
            "4                         Other  4-year College Degree  African American  \n"
          ]
        }
      ]
    },
    {
      "cell_type": "code",
      "source": [
        "print(data.isnull().sum()) ## Checking for missing values in each column"
      ],
      "metadata": {
        "colab": {
          "base_uri": "https://localhost:8080/"
        },
        "id": "pqfl8ska5KMN",
        "outputId": "0abb4558-544e-494f-ecf1-7cf18b4721d0"
      },
      "execution_count": null,
      "outputs": [
        {
          "output_type": "stream",
          "name": "stdout",
          "text": [
            "ID                       0\n",
            "IV_MAIN_Variable         0\n",
            "Politeness_perception    0\n",
            "Happiness_PostRequest    0\n",
            "age                      0\n",
            "gender                   0\n",
            "pol1                     0\n",
            "job                      0\n",
            "edu                      0\n",
            "ethni                    0\n",
            "dtype: int64\n"
          ]
        }
      ]
    },
    {
      "cell_type": "code",
      "source": [
        "# Step 3: Subset the data for each hypothesis\n",
        "donorslink = \"https://raw.githubusercontent.com/sandracumic/KTP/main/DONORS.csv\"\n",
        "non_donorslink = \"https://raw.githubusercontent.com/sandracumic/KTP/main/NON%20DONORS.csv\"\n",
        "controllink = \"https://raw.githubusercontent.com/sandracumic/KTP/main/CONTROL%20GROUP.csv\""
      ],
      "metadata": {
        "id": "kkuoTkMg5czz"
      },
      "execution_count": null,
      "outputs": []
    },
    {
      "cell_type": "code",
      "source": [
        "donors = pd.read_csv(donorslink)\n",
        "non_donors = pd.read_csv(non_donorslink)\n",
        "control = pd.read_csv(controllink)"
      ],
      "metadata": {
        "id": "Cje6-ffbA2Z5"
      },
      "execution_count": null,
      "outputs": []
    },
    {
      "cell_type": "code",
      "source": [
        "anova_result1 = f_oneway(donors['Politeness_perception'], non_donors['Politeness_perception'], control['Politeness_perception'])"
      ],
      "metadata": {
        "id": "Vp7e-EAQBdFG"
      },
      "execution_count": null,
      "outputs": []
    },
    {
      "cell_type": "code",
      "source": [
        "print(\"ANOVA Results for Politeness Perception:\")\n",
        "print(anova_result1)"
      ],
      "metadata": {
        "colab": {
          "base_uri": "https://localhost:8080/"
        },
        "id": "8N28bCkhBqCM",
        "outputId": "b39ed653-64c6-4601-8f96-71f477681032"
      },
      "execution_count": null,
      "outputs": [
        {
          "output_type": "stream",
          "name": "stdout",
          "text": [
            "ANOVA Results for Politeness Perception:\n",
            "F_onewayResult(statistic=31.913530772181534, pvalue=3.269765426689709e-13)\n"
          ]
        }
      ]
    },
    {
      "cell_type": "code",
      "source": [
        "from statsmodels.stats.multicomp import pairwise_tukeyhsd"
      ],
      "metadata": {
        "id": "raqjsBDSHzOZ"
      },
      "execution_count": null,
      "outputs": []
    },
    {
      "cell_type": "code",
      "source": [
        "if anova_result1.pvalue < 0.05:\n",
        "    # Step 3: Performing Tukey HSD for post-hoc analysis\n",
        "    tukey_result = pairwise_tukeyhsd(data['Politeness_perception'], data['IV_MAIN_Variable'])\n",
        "    print(tukey_result.summary())\n",
        "else:\n",
        "    print(\"ANOVA not significant, post-hoc test not required.\")"
      ],
      "metadata": {
        "colab": {
          "base_uri": "https://localhost:8080/"
        },
        "id": "G0dpq3pFH-yI",
        "outputId": "c1fe1405-ba5d-420f-aa45-9b0c5df7215b"
      },
      "execution_count": null,
      "outputs": [
        {
          "output_type": "stream",
          "name": "stdout",
          "text": [
            "                                                Multiple Comparison of Means - Tukey HSD, FWER=0.05                                                \n",
            "===================================================================================================================================================\n",
            "                        group1                                                 group2                         meandiff p-adj   lower  upper  reject\n",
            "---------------------------------------------------------------------------------------------------------------------------------------------------\n",
            "                   Control group (no donation request) Experimental group: asked to donate and accepted in T2   0.5568    0.0  0.3583 0.7553   True\n",
            "                   Control group (no donation request)  Experimental group: asked to donate but refused in T2  -0.0681 0.6229  -0.241 0.1048  False\n",
            "Experimental group: asked to donate and accepted in T2  Experimental group: asked to donate but refused in T2  -0.6249    0.0 -0.8188 -0.431   True\n",
            "---------------------------------------------------------------------------------------------------------------------------------------------------\n"
          ]
        }
      ]
    },
    {
      "cell_type": "code",
      "source": [
        "anova_result2 = f_oneway(donors['Happiness_PostRequest'], non_donors['Happiness_PostRequest'], control['Happiness_PostRequest'])"
      ],
      "metadata": {
        "id": "nCfpVUxNMBc1"
      },
      "execution_count": null,
      "outputs": []
    },
    {
      "cell_type": "code",
      "source": [
        "print(\"ANOVA Results for Happiness_PostRequest:\")\n",
        "print(anova_result2)"
      ],
      "metadata": {
        "colab": {
          "base_uri": "https://localhost:8080/"
        },
        "id": "TrVThimDMZx8",
        "outputId": "6af5d00e-eb36-40f3-e706-371ec5f1bf87"
      },
      "execution_count": null,
      "outputs": [
        {
          "output_type": "stream",
          "name": "stdout",
          "text": [
            "ANOVA Results for Happiness_PostRequest:\n",
            "F_onewayResult(statistic=4.745167131763366, pvalue=0.0094049156642011)\n"
          ]
        }
      ]
    },
    {
      "cell_type": "code",
      "source": [
        "if anova_result1.pvalue < 0.05:\n",
        "    # Step 3: Performing Tukey HSD for post-hoc analysis\n",
        "    tukey_result = pairwise_tukeyhsd(data['Happiness_PostRequest'], data['IV_MAIN_Variable'])\n",
        "    print(tukey_result.summary())\n",
        "else:\n",
        "    print(\"ANOVA not significant, post-hoc test not required.\")"
      ],
      "metadata": {
        "colab": {
          "base_uri": "https://localhost:8080/"
        },
        "id": "8NXIDcWbPV6N",
        "outputId": "1296fc82-970c-401a-9769-4cb14baaf71e"
      },
      "execution_count": null,
      "outputs": [
        {
          "output_type": "stream",
          "name": "stdout",
          "text": [
            "                                                Multiple Comparison of Means - Tukey HSD, FWER=0.05                                                 \n",
            "====================================================================================================================================================\n",
            "                        group1                                                 group2                         meandiff p-adj   lower   upper  reject\n",
            "----------------------------------------------------------------------------------------------------------------------------------------------------\n",
            "                   Control group (no donation request) Experimental group: asked to donate and accepted in T2   0.2915 0.1029 -0.0439  0.6268  False\n",
            "                   Control group (no donation request)  Experimental group: asked to donate but refused in T2  -0.1358 0.5177 -0.4279  0.1563  False\n",
            "Experimental group: asked to donate and accepted in T2  Experimental group: asked to donate but refused in T2  -0.4273 0.0066 -0.7548 -0.0997   True\n",
            "----------------------------------------------------------------------------------------------------------------------------------------------------\n"
          ]
        }
      ]
    }
  ]
}